{
 "cells": [
  {
   "cell_type": "code",
   "execution_count": 1,
   "metadata": {},
   "outputs": [
    {
     "name": "stderr",
     "output_type": "stream",
     "text": [
      "Using TensorFlow backend.\n"
     ]
    },
    {
     "ename": "IndentationError",
     "evalue": "unindent does not match any outer indentation level (util.py, line 22)",
     "output_type": "error",
     "traceback": [
      "Traceback \u001b[0;36m(most recent call last)\u001b[0m:\n",
      "  File \u001b[1;32m\"/usr/local/lib/python3.5/dist-packages/IPython/core/interactiveshell.py\"\u001b[0m, line \u001b[1;32m3325\u001b[0m, in \u001b[1;35mrun_code\u001b[0m\n    exec(code_obj, self.user_global_ns, self.user_ns)\n",
      "\u001b[0;36m  File \u001b[0;32m\"<ipython-input-1-8d9dd24c63a8>\"\u001b[0;36m, line \u001b[0;32m16\u001b[0;36m, in \u001b[0;35m<module>\u001b[0;36m\u001b[0m\n\u001b[0;31m    import util\u001b[0m\n",
      "\u001b[0;36m  File \u001b[0;32m\"/mnt/c/Users/dckoo/Desktop/discord-chatbot/util.py\"\u001b[0;36m, line \u001b[0;32m22\u001b[0m\n\u001b[0;31m    valid_data = []\u001b[0m\n\u001b[0m                   ^\u001b[0m\n\u001b[0;31mIndentationError\u001b[0m\u001b[0;31m:\u001b[0m unindent does not match any outer indentation level\n"
     ]
    }
   ],
   "source": [
    "# Handle imports\n",
    "from keras.models import load_model\n",
    "from keras.models import Sequential\n",
    "from keras import backend as K\n",
    "from keras.layers import *\n",
    "from keras.models import Model\n",
    "from keras import losses\n",
    "from keras.callbacks import TensorBoard\n",
    "from keras.models import load_model\n",
    "from keras.preprocessing.text import Tokenizer\n",
    "\n",
    "import tensorflow as tf\n",
    "import os\n",
    "import sys\n",
    "import pathlib\n",
    "\n",
    "import util\n",
    "import settings\n",
    "\n",
    "from keras.optimizers import Adam"
   ]
  },
  {
   "cell_type": "code",
   "execution_count": null,
   "metadata": {},
   "outputs": [],
   "source": [
    "# Get some things prepared\n",
    "\n",
    "## make tokenizer\n",
    "t = Tokenizer(oov_token=settings.oov_token,\n",
    "              num_words=settings.num_words)\n",
    "max_word_count = settings.max_word_count\n",
    "\n",
    "## loadTrainingData fits the data to the tokenizer and\n",
    "# returns the question and answers as numpy array of tokens we well as the\n",
    "# number of discovered words (vocab)\n",
    "(vocab, input_data, context, next_data_categorical) = util.load_and_process_data(\n",
    "    settings['files']['training'], t)\n",
    "\n",
    "# this value may be played \n",
    "hidden_size = 800 \n",
    "\n",
    "batch_size = settings['training']['batch_size']\n",
    "num_epochs = settings['training']['epochs']\n",
    "\n",
    "print(\"max_word_count: \" + str(max_word_count))\n",
    "print(\"vocab: \" + str(vocab))"
   ]
  },
  {
   "cell_type": "code",
   "execution_count": null,
   "metadata": {},
   "outputs": [],
   "source": [
    "# Create model\n",
    "\n",
    "## Check to see if a model exits\n",
    "## Otherwise make a new one\n",
    "\n",
    "path = pathlib.Path(settings.production_model_path)\n",
    "\n",
    "model = None\n",
    "\n",
    "if path.exists():\n",
    "    # load the model\n",
    "    model = load_model(path)\n",
    "    t = util.loadTokenizer(settings['tokenizer']['production'])\n",
    "else:\n",
    "\n",
    "    input_layer = Input(shape=(max_word_count,), name='user_input')\n",
    "    context_layer = Input(shape=(max_word_count,), name='context_input')\n",
    "\n",
    "    shared_embedding = Embedding(\n",
    "        output_dim=hidden_size, input_dim=vocab, input_length=max_word_count)\n",
    "\n",
    "    embedding_input = shared_embedding(input_layer)\n",
    "    embedding_context = shared_embedding(context_layer)\n",
    "\n",
    "    LSTM_encoder = LSTM(hidden_size, return_sequences=True,\n",
    "                        dropout=.5, recurrent_dropout=.5)\n",
    "    LSTM_decoder = LSTM(hidden_size, return_sequences=True,\n",
    "                        dropout=.5, recurrent_dropout=.5)\n",
    "\n",
    "    merge_layer = concatenate([embedding_context, embedding_input])\n",
    "    encoded_layer = LSTM_encoder(merge_layer)\n",
    "    decoded_layer = LSTM_decoder(encoded_layer)\n",
    "\n",
    "    out = Dense(vocab, activation='softmax')(decoded_layer)\n",
    "\n",
    "    model = Model(input=[input_layer, context_layer], output=[out])"
   ]
  },
  {
   "cell_type": "code",
   "execution_count": null,
   "metadata": {},
   "outputs": [],
   "source": [
    " # Compile & run training\n",
    "try: \n",
    "    model.compile(optimizer='rmsprop',\n",
    "                  loss='categorical_crossentropy', metrics=['accuracy'])\n",
    "\n",
    "    model.fit([input_data, context], next_data_categorical,\n",
    "              batch_size=batch_size,\n",
    "              epochs=num_epochs)\n",
    "except KeyboardInterrupt:\n",
    "        print('\\nsaving')\n",
    "        model.save(settings['model']['production'])\n",
    "        print('quiting\\n')\n",
    "        sys.exit(0)\n",
    "        exit()\n",
    "except:\n",
    "    print(\"[Unexpected error] \", sys.exc_info()[0])\n",
    "    raise"
   ]
  },
  {
   "cell_type": "code",
   "execution_count": null,
   "metadata": {},
   "outputs": [],
   "source": []
  }
 ],
 "metadata": {
  "kernelspec": {
   "display_name": "Python 3",
   "language": "python",
   "name": "python3"
  },
  "language_info": {
   "codemirror_mode": {
    "name": "ipython",
    "version": 3
   },
   "file_extension": ".py",
   "mimetype": "text/x-python",
   "name": "python",
   "nbconvert_exporter": "python",
   "pygments_lexer": "ipython3",
   "version": "3.5.2"
  }
 },
 "nbformat": 4,
 "nbformat_minor": 2
}
